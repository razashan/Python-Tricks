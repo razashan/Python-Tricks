{
 "cells": [
  {
   "cell_type": "markdown",
   "id": "a10c1b3c",
   "metadata": {},
   "source": [
    "# Importing Dataset"
   ]
  },
  {
   "cell_type": "code",
   "execution_count": 1,
   "id": "acc559fd",
   "metadata": {},
   "outputs": [],
   "source": [
    "import pandas as pd "
   ]
  },
  {
   "cell_type": "code",
   "execution_count": 19,
   "id": "8cc9f0c7",
   "metadata": {},
   "outputs": [],
   "source": [
    "df = pd.read_csv('Python_task.csv',parse_dates=['Date'])"
   ]
  },
  {
   "cell_type": "code",
   "execution_count": 20,
   "id": "d55aca5b",
   "metadata": {},
   "outputs": [
    {
     "data": {
      "text/html": [
       "<div>\n",
       "<style scoped>\n",
       "    .dataframe tbody tr th:only-of-type {\n",
       "        vertical-align: middle;\n",
       "    }\n",
       "\n",
       "    .dataframe tbody tr th {\n",
       "        vertical-align: top;\n",
       "    }\n",
       "\n",
       "    .dataframe thead th {\n",
       "        text-align: right;\n",
       "    }\n",
       "</style>\n",
       "<table border=\"1\" class=\"dataframe\">\n",
       "  <thead>\n",
       "    <tr style=\"text-align: right;\">\n",
       "      <th></th>\n",
       "      <th>Transaction No</th>\n",
       "      <th>Date</th>\n",
       "      <th>Item Reference No</th>\n",
       "      <th>Product</th>\n",
       "      <th>Category</th>\n",
       "      <th>SubCategory</th>\n",
       "      <th>mergedcategories</th>\n",
       "      <th>Quantity</th>\n",
       "      <th>Sales</th>\n",
       "      <th>Promotion Indicator</th>\n",
       "    </tr>\n",
       "  </thead>\n",
       "  <tbody>\n",
       "    <tr>\n",
       "      <th>0</th>\n",
       "      <td>505061428-204</td>\n",
       "      <td>2020-07-06</td>\n",
       "      <td>5.010980e+11</td>\n",
       "      <td>TUNNOCKS MLK CARAMEL WAFER120G</td>\n",
       "      <td>CONFECTIONERY</td>\n",
       "      <td>BISCUITS</td>\n",
       "      <td>CONFECTIONERY BISCUITS</td>\n",
       "      <td>2.00</td>\n",
       "      <td>7.17</td>\n",
       "      <td>0</td>\n",
       "    </tr>\n",
       "    <tr>\n",
       "      <th>1</th>\n",
       "      <td>505061429-204</td>\n",
       "      <td>2020-07-06</td>\n",
       "      <td>2.100670e+11</td>\n",
       "      <td>PUMPKIN GREEN (KG)</td>\n",
       "      <td>VEGETABLES</td>\n",
       "      <td>PUMPKIN</td>\n",
       "      <td>VEGETABLES PUMPKIN</td>\n",
       "      <td>0.83</td>\n",
       "      <td>5.87</td>\n",
       "      <td>0</td>\n",
       "    </tr>\n",
       "    <tr>\n",
       "      <th>2</th>\n",
       "      <td>505061429-204</td>\n",
       "      <td>2020-07-06</td>\n",
       "      <td>2.102210e+11</td>\n",
       "      <td>ONION RED (KG)</td>\n",
       "      <td>VEGETABLES</td>\n",
       "      <td>ONION</td>\n",
       "      <td>VEGETABLES ONION</td>\n",
       "      <td>1.49</td>\n",
       "      <td>1.70</td>\n",
       "      <td>1</td>\n",
       "    </tr>\n",
       "    <tr>\n",
       "      <th>3</th>\n",
       "      <td>505061429-204</td>\n",
       "      <td>2020-07-06</td>\n",
       "      <td>2.100490e+11</td>\n",
       "      <td>TOMATO LOCAL (KG)</td>\n",
       "      <td>VEGETABLES</td>\n",
       "      <td>TOMATOES</td>\n",
       "      <td>VEGETABLES TOMATOES</td>\n",
       "      <td>0.41</td>\n",
       "      <td>6.91</td>\n",
       "      <td>0</td>\n",
       "    </tr>\n",
       "    <tr>\n",
       "      <th>4</th>\n",
       "      <td>505061429-204</td>\n",
       "      <td>2020-07-06</td>\n",
       "      <td>2.100900e+11</td>\n",
       "      <td>PEPPER HOT GREEN INDIA (KG)</td>\n",
       "      <td>VEGETABLES</td>\n",
       "      <td>PEPPER</td>\n",
       "      <td>VEGETABLES PEPPER</td>\n",
       "      <td>0.14</td>\n",
       "      <td>16.34</td>\n",
       "      <td>0</td>\n",
       "    </tr>\n",
       "  </tbody>\n",
       "</table>\n",
       "</div>"
      ],
      "text/plain": [
       "  Transaction No       Date  Item Reference No  \\\n",
       "0  505061428-204 2020-07-06       5.010980e+11   \n",
       "1  505061429-204 2020-07-06       2.100670e+11   \n",
       "2  505061429-204 2020-07-06       2.102210e+11   \n",
       "3  505061429-204 2020-07-06       2.100490e+11   \n",
       "4  505061429-204 2020-07-06       2.100900e+11   \n",
       "\n",
       "                          Product       Category SubCategory  \\\n",
       "0  TUNNOCKS MLK CARAMEL WAFER120G  CONFECTIONERY    BISCUITS   \n",
       "1              PUMPKIN GREEN (KG)     VEGETABLES     PUMPKIN   \n",
       "2                  ONION RED (KG)     VEGETABLES       ONION   \n",
       "3               TOMATO LOCAL (KG)     VEGETABLES    TOMATOES   \n",
       "4     PEPPER HOT GREEN INDIA (KG)     VEGETABLES      PEPPER   \n",
       "\n",
       "         mergedcategories  Quantity  Sales  Promotion Indicator  \n",
       "0  CONFECTIONERY BISCUITS      2.00   7.17                    0  \n",
       "1      VEGETABLES PUMPKIN      0.83   5.87                    0  \n",
       "2        VEGETABLES ONION      1.49   1.70                    1  \n",
       "3     VEGETABLES TOMATOES      0.41   6.91                    0  \n",
       "4       VEGETABLES PEPPER      0.14  16.34                    0  "
      ]
     },
     "execution_count": 20,
     "metadata": {},
     "output_type": "execute_result"
    }
   ],
   "source": [
    "df.head()"
   ]
  },
  {
   "cell_type": "markdown",
   "id": "0c687680",
   "metadata": {},
   "source": [
    "### Calculate total sales of all transactions"
   ]
  },
  {
   "cell_type": "markdown",
   "id": "50493283",
   "metadata": {},
   "source": [
    "The total Sales of all the trnasaction is calculated using Sum() function which is the built-in function of Python for calculation the sum. "
   ]
  },
  {
   "cell_type": "code",
   "execution_count": 21,
   "id": "1d3f0580",
   "metadata": {},
   "outputs": [
    {
     "data": {
      "text/plain": [
       "10377885.179999996"
      ]
     },
     "execution_count": 21,
     "metadata": {},
     "output_type": "execute_result"
    }
   ],
   "source": [
    "df['Sales'].sum()"
   ]
  },
  {
   "cell_type": "markdown",
   "id": "b3e2c901",
   "metadata": {},
   "source": [
    "### Top 10 best performing products based on sales value"
   ]
  },
  {
   "cell_type": "markdown",
   "id": "3a8789e7",
   "metadata": {},
   "source": [
    "To find out the top 10 performing products based on the sales value, groupby function is applied to calculate the total sales generated by each product and first 10 records are selected as the Top 10 products with the highest sales"
   ]
  },
  {
   "cell_type": "code",
   "execution_count": 22,
   "id": "6614310d",
   "metadata": {},
   "outputs": [],
   "source": [
    "sales = df[['Product','Sales']]"
   ]
  },
  {
   "cell_type": "markdown",
   "id": "98f939ae",
   "metadata": {},
   "source": [
    "Sort function is used to sort the sales in descending order so the products which has highest sales should come on the top"
   ]
  },
  {
   "cell_type": "code",
   "execution_count": 23,
   "id": "b4ded738",
   "metadata": {},
   "outputs": [
    {
     "data": {
      "text/html": [
       "<div>\n",
       "<style scoped>\n",
       "    .dataframe tbody tr th:only-of-type {\n",
       "        vertical-align: middle;\n",
       "    }\n",
       "\n",
       "    .dataframe tbody tr th {\n",
       "        vertical-align: top;\n",
       "    }\n",
       "\n",
       "    .dataframe thead th {\n",
       "        text-align: right;\n",
       "    }\n",
       "</style>\n",
       "<table border=\"1\" class=\"dataframe\">\n",
       "  <thead>\n",
       "    <tr style=\"text-align: right;\">\n",
       "      <th></th>\n",
       "      <th>Sales</th>\n",
       "    </tr>\n",
       "    <tr>\n",
       "      <th>Product</th>\n",
       "      <th></th>\n",
       "    </tr>\n",
       "  </thead>\n",
       "  <tbody>\n",
       "    <tr>\n",
       "      <th>LOCAL VEAL BONELESS.KG.</th>\n",
       "      <td>81014.06</td>\n",
       "    </tr>\n",
       "    <tr>\n",
       "      <th>BANANA KG</th>\n",
       "      <td>75268.91</td>\n",
       "    </tr>\n",
       "    <tr>\n",
       "      <th>CARDAMOM AMERICAN #2 (KG)</th>\n",
       "      <td>73189.24</td>\n",
       "    </tr>\n",
       "    <tr>\n",
       "      <th>STEAK TOP SIDE BRAZILIAN (KG)</th>\n",
       "      <td>69594.85</td>\n",
       "    </tr>\n",
       "    <tr>\n",
       "      <th>SALMON FILLEH FRESH (KG)</th>\n",
       "      <td>65166.45</td>\n",
       "    </tr>\n",
       "    <tr>\n",
       "      <th>TOMATO LOCAL (KG)</th>\n",
       "      <td>62955.86</td>\n",
       "    </tr>\n",
       "    <tr>\n",
       "      <th>SINIORA SMOKED TURKEY BREAST (KG)</th>\n",
       "      <td>61539.13</td>\n",
       "    </tr>\n",
       "    <tr>\n",
       "      <th>HALWANI SMOKED TURKEY (KG)</th>\n",
       "      <td>61538.70</td>\n",
       "    </tr>\n",
       "    <tr>\n",
       "      <th>ALMOND RAW AMERICAN (KG)</th>\n",
       "      <td>50457.75</td>\n",
       "    </tr>\n",
       "    <tr>\n",
       "      <th>NAIMI LAMB LIVE CARCASS (22-26 KG) PC</th>\n",
       "      <td>50217.42</td>\n",
       "    </tr>\n",
       "  </tbody>\n",
       "</table>\n",
       "</div>"
      ],
      "text/plain": [
       "                                          Sales\n",
       "Product                                        \n",
       "LOCAL VEAL BONELESS.KG.                81014.06\n",
       "BANANA KG                              75268.91\n",
       "CARDAMOM AMERICAN #2 (KG)              73189.24\n",
       "STEAK TOP SIDE BRAZILIAN (KG)          69594.85\n",
       "SALMON FILLEH FRESH (KG)               65166.45\n",
       "TOMATO LOCAL (KG)                      62955.86\n",
       "SINIORA SMOKED TURKEY BREAST (KG)      61539.13\n",
       "HALWANI SMOKED TURKEY (KG)             61538.70\n",
       "ALMOND RAW AMERICAN (KG)               50457.75\n",
       "NAIMI LAMB LIVE CARCASS (22-26 KG) PC  50217.42"
      ]
     },
     "execution_count": 23,
     "metadata": {},
     "output_type": "execute_result"
    }
   ],
   "source": [
    "sales.groupby('Product').sum().sort_values(by=['Sales'], ascending=False).head(10)"
   ]
  },
  {
   "cell_type": "markdown",
   "id": "8ceda0cd",
   "metadata": {},
   "source": [
    "### 10 least performing products based on quantities sold"
   ]
  },
  {
   "cell_type": "markdown",
   "id": "39a164a5",
   "metadata": {},
   "source": [
    "To find out the 10 products which has the least sales based on the quantities sold are calculated. For calculation of least performing products the groupby function is applied and sum of quantity sold by each product is calculated and the results are sorted in ascending order and top 10 products are selected"
   ]
  },
  {
   "cell_type": "code",
   "execution_count": 24,
   "id": "cfbf4325",
   "metadata": {},
   "outputs": [],
   "source": [
    "quantity = df[['Product','Quantity']]"
   ]
  },
  {
   "cell_type": "markdown",
   "id": "20167035",
   "metadata": {},
   "source": [
    "Sort function is applied to top up the products which has the least sales on the top and head function is used to select first 10 records"
   ]
  },
  {
   "cell_type": "code",
   "execution_count": 25,
   "id": "49eba047",
   "metadata": {},
   "outputs": [
    {
     "data": {
      "text/html": [
       "<div>\n",
       "<style scoped>\n",
       "    .dataframe tbody tr th:only-of-type {\n",
       "        vertical-align: middle;\n",
       "    }\n",
       "\n",
       "    .dataframe tbody tr th {\n",
       "        vertical-align: top;\n",
       "    }\n",
       "\n",
       "    .dataframe thead th {\n",
       "        text-align: right;\n",
       "    }\n",
       "</style>\n",
       "<table border=\"1\" class=\"dataframe\">\n",
       "  <thead>\n",
       "    <tr style=\"text-align: right;\">\n",
       "      <th></th>\n",
       "      <th>Quantity</th>\n",
       "    </tr>\n",
       "    <tr>\n",
       "      <th>Product</th>\n",
       "      <th></th>\n",
       "    </tr>\n",
       "  </thead>\n",
       "  <tbody>\n",
       "    <tr>\n",
       "      <th>BROWN FLOUR MAIN  INGREDIENT</th>\n",
       "      <td>0.060</td>\n",
       "    </tr>\n",
       "    <tr>\n",
       "      <th>NABIL BEEF PEPPERONI (KG)</th>\n",
       "      <td>0.120</td>\n",
       "    </tr>\n",
       "    <tr>\n",
       "      <th>SINIORA BEEF MORTADELLA PISTASHIO(KG)</th>\n",
       "      <td>0.138</td>\n",
       "    </tr>\n",
       "    <tr>\n",
       "      <th>HENRI WILLIG GOUDA OLD BLACK CHEESE (KG)</th>\n",
       "      <td>0.140</td>\n",
       "    </tr>\n",
       "    <tr>\n",
       "      <th>PAPPER HOT KARAZ GREEN (KG)</th>\n",
       "      <td>0.146</td>\n",
       "    </tr>\n",
       "    <tr>\n",
       "      <th>ALTANMIA ROAST BEEF SANDWICH (KG)</th>\n",
       "      <td>0.168</td>\n",
       "    </tr>\n",
       "    <tr>\n",
       "      <th>BARIYA ARABIC DARK COFFEE (KG)</th>\n",
       "      <td>0.186</td>\n",
       "    </tr>\n",
       "    <tr>\n",
       "      <th>JACK CHEESE WITH PEPEER (KG)</th>\n",
       "      <td>0.202</td>\n",
       "    </tr>\n",
       "    <tr>\n",
       "      <th>EGYPTIAN GREEN OLIVES (KG)</th>\n",
       "      <td>0.204</td>\n",
       "    </tr>\n",
       "    <tr>\n",
       "      <th>PK ORG GREEN PESTO (KG)</th>\n",
       "      <td>0.216</td>\n",
       "    </tr>\n",
       "  </tbody>\n",
       "</table>\n",
       "</div>"
      ],
      "text/plain": [
       "                                          Quantity\n",
       "Product                                           \n",
       "BROWN FLOUR MAIN  INGREDIENT                 0.060\n",
       "NABIL BEEF PEPPERONI (KG)                    0.120\n",
       "SINIORA BEEF MORTADELLA PISTASHIO(KG)        0.138\n",
       "HENRI WILLIG GOUDA OLD BLACK CHEESE (KG)     0.140\n",
       "PAPPER HOT KARAZ GREEN (KG)                  0.146\n",
       "ALTANMIA ROAST BEEF SANDWICH (KG)            0.168\n",
       "BARIYA ARABIC DARK COFFEE (KG)               0.186\n",
       "JACK CHEESE WITH PEPEER (KG)                 0.202\n",
       "EGYPTIAN GREEN OLIVES (KG)                   0.204\n",
       "PK ORG GREEN PESTO (KG)                      0.216"
      ]
     },
     "execution_count": 25,
     "metadata": {},
     "output_type": "execute_result"
    }
   ],
   "source": [
    "quantity.groupby('Product').sum().sort_values(by=['Quantity'], ascending=True).head(10)"
   ]
  },
  {
   "cell_type": "markdown",
   "id": "79e9c0de",
   "metadata": {},
   "source": [
    "### Find top 2 products which is bought along with “BANANA KG”"
   ]
  },
  {
   "cell_type": "markdown",
   "id": "ac4e9323",
   "metadata": {},
   "source": [
    "Select the Products which are Banana KG "
   ]
  },
  {
   "cell_type": "code",
   "execution_count": 26,
   "id": "ccfe2340",
   "metadata": {},
   "outputs": [],
   "source": [
    "banana = df.query(\"Product =='BANANA KG' \")"
   ]
  },
  {
   "cell_type": "code",
   "execution_count": 27,
   "id": "9f43e576",
   "metadata": {},
   "outputs": [
    {
     "data": {
      "text/html": [
       "<div>\n",
       "<style scoped>\n",
       "    .dataframe tbody tr th:only-of-type {\n",
       "        vertical-align: middle;\n",
       "    }\n",
       "\n",
       "    .dataframe tbody tr th {\n",
       "        vertical-align: top;\n",
       "    }\n",
       "\n",
       "    .dataframe thead th {\n",
       "        text-align: right;\n",
       "    }\n",
       "</style>\n",
       "<table border=\"1\" class=\"dataframe\">\n",
       "  <thead>\n",
       "    <tr style=\"text-align: right;\">\n",
       "      <th></th>\n",
       "      <th>Transaction No</th>\n",
       "      <th>Date</th>\n",
       "      <th>Item Reference No</th>\n",
       "      <th>Product</th>\n",
       "      <th>Category</th>\n",
       "      <th>SubCategory</th>\n",
       "      <th>mergedcategories</th>\n",
       "      <th>Quantity</th>\n",
       "      <th>Sales</th>\n",
       "      <th>Promotion Indicator</th>\n",
       "    </tr>\n",
       "  </thead>\n",
       "  <tbody>\n",
       "    <tr>\n",
       "      <th>5</th>\n",
       "      <td>505061429-204</td>\n",
       "      <td>2020-07-06</td>\n",
       "      <td>2.100760e+11</td>\n",
       "      <td>BANANA KG</td>\n",
       "      <td>FRUITS</td>\n",
       "      <td>BANANA</td>\n",
       "      <td>FRUITS BANANA</td>\n",
       "      <td>0.92</td>\n",
       "      <td>3.04</td>\n",
       "      <td>1</td>\n",
       "    </tr>\n",
       "    <tr>\n",
       "      <th>117</th>\n",
       "      <td>505061442-204</td>\n",
       "      <td>2020-07-06</td>\n",
       "      <td>2.100760e+11</td>\n",
       "      <td>BANANA KG</td>\n",
       "      <td>FRUITS</td>\n",
       "      <td>BANANA</td>\n",
       "      <td>FRUITS BANANA</td>\n",
       "      <td>2.43</td>\n",
       "      <td>3.05</td>\n",
       "      <td>1</td>\n",
       "    </tr>\n",
       "    <tr>\n",
       "      <th>183</th>\n",
       "      <td>505061447-204</td>\n",
       "      <td>2020-07-06</td>\n",
       "      <td>2.100760e+11</td>\n",
       "      <td>BANANA KG</td>\n",
       "      <td>FRUITS</td>\n",
       "      <td>BANANA</td>\n",
       "      <td>FRUITS BANANA</td>\n",
       "      <td>1.44</td>\n",
       "      <td>3.04</td>\n",
       "      <td>1</td>\n",
       "    </tr>\n",
       "    <tr>\n",
       "      <th>287</th>\n",
       "      <td>505061451-204</td>\n",
       "      <td>2020-07-06</td>\n",
       "      <td>2.100760e+11</td>\n",
       "      <td>BANANA KG</td>\n",
       "      <td>FRUITS</td>\n",
       "      <td>BANANA</td>\n",
       "      <td>FRUITS BANANA</td>\n",
       "      <td>1.19</td>\n",
       "      <td>3.05</td>\n",
       "      <td>1</td>\n",
       "    </tr>\n",
       "    <tr>\n",
       "      <th>337</th>\n",
       "      <td>505061454-204</td>\n",
       "      <td>2020-07-06</td>\n",
       "      <td>2.100760e+11</td>\n",
       "      <td>BANANA KG</td>\n",
       "      <td>FRUITS</td>\n",
       "      <td>BANANA</td>\n",
       "      <td>FRUITS BANANA</td>\n",
       "      <td>1.33</td>\n",
       "      <td>3.05</td>\n",
       "      <td>1</td>\n",
       "    </tr>\n",
       "  </tbody>\n",
       "</table>\n",
       "</div>"
      ],
      "text/plain": [
       "    Transaction No       Date  Item Reference No    Product Category  \\\n",
       "5    505061429-204 2020-07-06       2.100760e+11  BANANA KG   FRUITS   \n",
       "117  505061442-204 2020-07-06       2.100760e+11  BANANA KG   FRUITS   \n",
       "183  505061447-204 2020-07-06       2.100760e+11  BANANA KG   FRUITS   \n",
       "287  505061451-204 2020-07-06       2.100760e+11  BANANA KG   FRUITS   \n",
       "337  505061454-204 2020-07-06       2.100760e+11  BANANA KG   FRUITS   \n",
       "\n",
       "    SubCategory mergedcategories  Quantity  Sales  Promotion Indicator  \n",
       "5        BANANA    FRUITS BANANA      0.92   3.04                    1  \n",
       "117      BANANA    FRUITS BANANA      2.43   3.05                    1  \n",
       "183      BANANA    FRUITS BANANA      1.44   3.04                    1  \n",
       "287      BANANA    FRUITS BANANA      1.19   3.05                    1  \n",
       "337      BANANA    FRUITS BANANA      1.33   3.05                    1  "
      ]
     },
     "execution_count": 27,
     "metadata": {},
     "output_type": "execute_result"
    }
   ],
   "source": [
    "banana.head()"
   ]
  },
  {
   "cell_type": "markdown",
   "id": "2b760dae",
   "metadata": {},
   "source": [
    "Applying Groupby function to find out the quantity total sold by products of Banana Kg "
   ]
  },
  {
   "cell_type": "code",
   "execution_count": 28,
   "id": "99f2d52e",
   "metadata": {},
   "outputs": [
    {
     "data": {
      "text/html": [
       "<div>\n",
       "<style scoped>\n",
       "    .dataframe tbody tr th:only-of-type {\n",
       "        vertical-align: middle;\n",
       "    }\n",
       "\n",
       "    .dataframe tbody tr th {\n",
       "        vertical-align: top;\n",
       "    }\n",
       "\n",
       "    .dataframe thead th {\n",
       "        text-align: right;\n",
       "    }\n",
       "</style>\n",
       "<table border=\"1\" class=\"dataframe\">\n",
       "  <thead>\n",
       "    <tr style=\"text-align: right;\">\n",
       "      <th></th>\n",
       "      <th>Item Reference No</th>\n",
       "      <th>Quantity</th>\n",
       "      <th>Sales</th>\n",
       "      <th>Promotion Indicator</th>\n",
       "    </tr>\n",
       "    <tr>\n",
       "      <th>Product</th>\n",
       "      <th></th>\n",
       "      <th></th>\n",
       "      <th></th>\n",
       "      <th></th>\n",
       "    </tr>\n",
       "  </thead>\n",
       "  <tbody>\n",
       "    <tr>\n",
       "      <th>BANANA KG</th>\n",
       "      <td>4.800447e+15</td>\n",
       "      <td>36608.802</td>\n",
       "      <td>75268.91</td>\n",
       "      <td>18035</td>\n",
       "    </tr>\n",
       "  </tbody>\n",
       "</table>\n",
       "</div>"
      ],
      "text/plain": [
       "           Item Reference No   Quantity     Sales  Promotion Indicator\n",
       "Product                                                               \n",
       "BANANA KG       4.800447e+15  36608.802  75268.91                18035"
      ]
     },
     "execution_count": 28,
     "metadata": {},
     "output_type": "execute_result"
    }
   ],
   "source": [
    "banana.groupby('Product').sum().sort_values(by=['Quantity'], ascending=False).head(2)"
   ]
  },
  {
   "cell_type": "markdown",
   "id": "e6f47ee1",
   "metadata": {},
   "source": [
    "### Column calculate total sales for Monday and Sunday"
   ]
  },
  {
   "cell_type": "markdown",
   "id": "3ac8a4fd",
   "metadata": {},
   "source": [
    "Extracting Day Name from Date so we can select the Monday and Sunday for Data Analysis"
   ]
  },
  {
   "cell_type": "code",
   "execution_count": 29,
   "id": "cdab942d",
   "metadata": {},
   "outputs": [],
   "source": [
    "df[\"Weekday\"] = df[\"Date\"].dt.strftime('%A')"
   ]
  },
  {
   "cell_type": "code",
   "execution_count": 30,
   "id": "6cfd40a5",
   "metadata": {},
   "outputs": [
    {
     "data": {
      "text/html": [
       "<div>\n",
       "<style scoped>\n",
       "    .dataframe tbody tr th:only-of-type {\n",
       "        vertical-align: middle;\n",
       "    }\n",
       "\n",
       "    .dataframe tbody tr th {\n",
       "        vertical-align: top;\n",
       "    }\n",
       "\n",
       "    .dataframe thead th {\n",
       "        text-align: right;\n",
       "    }\n",
       "</style>\n",
       "<table border=\"1\" class=\"dataframe\">\n",
       "  <thead>\n",
       "    <tr style=\"text-align: right;\">\n",
       "      <th></th>\n",
       "      <th>Transaction No</th>\n",
       "      <th>Date</th>\n",
       "      <th>Item Reference No</th>\n",
       "      <th>Product</th>\n",
       "      <th>Category</th>\n",
       "      <th>SubCategory</th>\n",
       "      <th>mergedcategories</th>\n",
       "      <th>Quantity</th>\n",
       "      <th>Sales</th>\n",
       "      <th>Promotion Indicator</th>\n",
       "      <th>Weekday</th>\n",
       "    </tr>\n",
       "  </thead>\n",
       "  <tbody>\n",
       "    <tr>\n",
       "      <th>0</th>\n",
       "      <td>505061428-204</td>\n",
       "      <td>2020-07-06</td>\n",
       "      <td>5.010980e+11</td>\n",
       "      <td>TUNNOCKS MLK CARAMEL WAFER120G</td>\n",
       "      <td>CONFECTIONERY</td>\n",
       "      <td>BISCUITS</td>\n",
       "      <td>CONFECTIONERY BISCUITS</td>\n",
       "      <td>2.00</td>\n",
       "      <td>7.17</td>\n",
       "      <td>0</td>\n",
       "      <td>Monday</td>\n",
       "    </tr>\n",
       "    <tr>\n",
       "      <th>1</th>\n",
       "      <td>505061429-204</td>\n",
       "      <td>2020-07-06</td>\n",
       "      <td>2.100670e+11</td>\n",
       "      <td>PUMPKIN GREEN (KG)</td>\n",
       "      <td>VEGETABLES</td>\n",
       "      <td>PUMPKIN</td>\n",
       "      <td>VEGETABLES PUMPKIN</td>\n",
       "      <td>0.83</td>\n",
       "      <td>5.87</td>\n",
       "      <td>0</td>\n",
       "      <td>Monday</td>\n",
       "    </tr>\n",
       "    <tr>\n",
       "      <th>2</th>\n",
       "      <td>505061429-204</td>\n",
       "      <td>2020-07-06</td>\n",
       "      <td>2.102210e+11</td>\n",
       "      <td>ONION RED (KG)</td>\n",
       "      <td>VEGETABLES</td>\n",
       "      <td>ONION</td>\n",
       "      <td>VEGETABLES ONION</td>\n",
       "      <td>1.49</td>\n",
       "      <td>1.70</td>\n",
       "      <td>1</td>\n",
       "      <td>Monday</td>\n",
       "    </tr>\n",
       "    <tr>\n",
       "      <th>3</th>\n",
       "      <td>505061429-204</td>\n",
       "      <td>2020-07-06</td>\n",
       "      <td>2.100490e+11</td>\n",
       "      <td>TOMATO LOCAL (KG)</td>\n",
       "      <td>VEGETABLES</td>\n",
       "      <td>TOMATOES</td>\n",
       "      <td>VEGETABLES TOMATOES</td>\n",
       "      <td>0.41</td>\n",
       "      <td>6.91</td>\n",
       "      <td>0</td>\n",
       "      <td>Monday</td>\n",
       "    </tr>\n",
       "    <tr>\n",
       "      <th>4</th>\n",
       "      <td>505061429-204</td>\n",
       "      <td>2020-07-06</td>\n",
       "      <td>2.100900e+11</td>\n",
       "      <td>PEPPER HOT GREEN INDIA (KG)</td>\n",
       "      <td>VEGETABLES</td>\n",
       "      <td>PEPPER</td>\n",
       "      <td>VEGETABLES PEPPER</td>\n",
       "      <td>0.14</td>\n",
       "      <td>16.34</td>\n",
       "      <td>0</td>\n",
       "      <td>Monday</td>\n",
       "    </tr>\n",
       "  </tbody>\n",
       "</table>\n",
       "</div>"
      ],
      "text/plain": [
       "  Transaction No       Date  Item Reference No  \\\n",
       "0  505061428-204 2020-07-06       5.010980e+11   \n",
       "1  505061429-204 2020-07-06       2.100670e+11   \n",
       "2  505061429-204 2020-07-06       2.102210e+11   \n",
       "3  505061429-204 2020-07-06       2.100490e+11   \n",
       "4  505061429-204 2020-07-06       2.100900e+11   \n",
       "\n",
       "                          Product       Category SubCategory  \\\n",
       "0  TUNNOCKS MLK CARAMEL WAFER120G  CONFECTIONERY    BISCUITS   \n",
       "1              PUMPKIN GREEN (KG)     VEGETABLES     PUMPKIN   \n",
       "2                  ONION RED (KG)     VEGETABLES       ONION   \n",
       "3               TOMATO LOCAL (KG)     VEGETABLES    TOMATOES   \n",
       "4     PEPPER HOT GREEN INDIA (KG)     VEGETABLES      PEPPER   \n",
       "\n",
       "         mergedcategories  Quantity  Sales  Promotion Indicator Weekday  \n",
       "0  CONFECTIONERY BISCUITS      2.00   7.17                    0  Monday  \n",
       "1      VEGETABLES PUMPKIN      0.83   5.87                    0  Monday  \n",
       "2        VEGETABLES ONION      1.49   1.70                    1  Monday  \n",
       "3     VEGETABLES TOMATOES      0.41   6.91                    0  Monday  \n",
       "4       VEGETABLES PEPPER      0.14  16.34                    0  Monday  "
      ]
     },
     "execution_count": 30,
     "metadata": {},
     "output_type": "execute_result"
    }
   ],
   "source": [
    "df.head()"
   ]
  },
  {
   "cell_type": "markdown",
   "id": "a5a6bc64",
   "metadata": {},
   "source": [
    "Select the Monday andd Sunday using query function. Query function is the built-in function of python which is used to select the data based on the condition"
   ]
  },
  {
   "cell_type": "code",
   "execution_count": 33,
   "id": "279e3214",
   "metadata": {},
   "outputs": [],
   "source": [
    "sun_mon = df.query(\"Weekday =='Monday' or Weekday =='Sunday' \")"
   ]
  },
  {
   "cell_type": "code",
   "execution_count": 34,
   "id": "7887d475",
   "metadata": {},
   "outputs": [
    {
     "data": {
      "text/html": [
       "<div>\n",
       "<style scoped>\n",
       "    .dataframe tbody tr th:only-of-type {\n",
       "        vertical-align: middle;\n",
       "    }\n",
       "\n",
       "    .dataframe tbody tr th {\n",
       "        vertical-align: top;\n",
       "    }\n",
       "\n",
       "    .dataframe thead th {\n",
       "        text-align: right;\n",
       "    }\n",
       "</style>\n",
       "<table border=\"1\" class=\"dataframe\">\n",
       "  <thead>\n",
       "    <tr style=\"text-align: right;\">\n",
       "      <th></th>\n",
       "      <th>Transaction No</th>\n",
       "      <th>Date</th>\n",
       "      <th>Item Reference No</th>\n",
       "      <th>Product</th>\n",
       "      <th>Category</th>\n",
       "      <th>SubCategory</th>\n",
       "      <th>mergedcategories</th>\n",
       "      <th>Quantity</th>\n",
       "      <th>Sales</th>\n",
       "      <th>Promotion Indicator</th>\n",
       "      <th>Weekday</th>\n",
       "    </tr>\n",
       "  </thead>\n",
       "  <tbody>\n",
       "    <tr>\n",
       "      <th>0</th>\n",
       "      <td>505061428-204</td>\n",
       "      <td>2020-07-06</td>\n",
       "      <td>5.010980e+11</td>\n",
       "      <td>TUNNOCKS MLK CARAMEL WAFER120G</td>\n",
       "      <td>CONFECTIONERY</td>\n",
       "      <td>BISCUITS</td>\n",
       "      <td>CONFECTIONERY BISCUITS</td>\n",
       "      <td>2.00</td>\n",
       "      <td>7.17</td>\n",
       "      <td>0</td>\n",
       "      <td>Monday</td>\n",
       "    </tr>\n",
       "    <tr>\n",
       "      <th>1</th>\n",
       "      <td>505061429-204</td>\n",
       "      <td>2020-07-06</td>\n",
       "      <td>2.100670e+11</td>\n",
       "      <td>PUMPKIN GREEN (KG)</td>\n",
       "      <td>VEGETABLES</td>\n",
       "      <td>PUMPKIN</td>\n",
       "      <td>VEGETABLES PUMPKIN</td>\n",
       "      <td>0.83</td>\n",
       "      <td>5.87</td>\n",
       "      <td>0</td>\n",
       "      <td>Monday</td>\n",
       "    </tr>\n",
       "    <tr>\n",
       "      <th>2</th>\n",
       "      <td>505061429-204</td>\n",
       "      <td>2020-07-06</td>\n",
       "      <td>2.102210e+11</td>\n",
       "      <td>ONION RED (KG)</td>\n",
       "      <td>VEGETABLES</td>\n",
       "      <td>ONION</td>\n",
       "      <td>VEGETABLES ONION</td>\n",
       "      <td>1.49</td>\n",
       "      <td>1.70</td>\n",
       "      <td>1</td>\n",
       "      <td>Monday</td>\n",
       "    </tr>\n",
       "    <tr>\n",
       "      <th>3</th>\n",
       "      <td>505061429-204</td>\n",
       "      <td>2020-07-06</td>\n",
       "      <td>2.100490e+11</td>\n",
       "      <td>TOMATO LOCAL (KG)</td>\n",
       "      <td>VEGETABLES</td>\n",
       "      <td>TOMATOES</td>\n",
       "      <td>VEGETABLES TOMATOES</td>\n",
       "      <td>0.41</td>\n",
       "      <td>6.91</td>\n",
       "      <td>0</td>\n",
       "      <td>Monday</td>\n",
       "    </tr>\n",
       "    <tr>\n",
       "      <th>4</th>\n",
       "      <td>505061429-204</td>\n",
       "      <td>2020-07-06</td>\n",
       "      <td>2.100900e+11</td>\n",
       "      <td>PEPPER HOT GREEN INDIA (KG)</td>\n",
       "      <td>VEGETABLES</td>\n",
       "      <td>PEPPER</td>\n",
       "      <td>VEGETABLES PEPPER</td>\n",
       "      <td>0.14</td>\n",
       "      <td>16.34</td>\n",
       "      <td>0</td>\n",
       "      <td>Monday</td>\n",
       "    </tr>\n",
       "  </tbody>\n",
       "</table>\n",
       "</div>"
      ],
      "text/plain": [
       "  Transaction No       Date  Item Reference No  \\\n",
       "0  505061428-204 2020-07-06       5.010980e+11   \n",
       "1  505061429-204 2020-07-06       2.100670e+11   \n",
       "2  505061429-204 2020-07-06       2.102210e+11   \n",
       "3  505061429-204 2020-07-06       2.100490e+11   \n",
       "4  505061429-204 2020-07-06       2.100900e+11   \n",
       "\n",
       "                          Product       Category SubCategory  \\\n",
       "0  TUNNOCKS MLK CARAMEL WAFER120G  CONFECTIONERY    BISCUITS   \n",
       "1              PUMPKIN GREEN (KG)     VEGETABLES     PUMPKIN   \n",
       "2                  ONION RED (KG)     VEGETABLES       ONION   \n",
       "3               TOMATO LOCAL (KG)     VEGETABLES    TOMATOES   \n",
       "4     PEPPER HOT GREEN INDIA (KG)     VEGETABLES      PEPPER   \n",
       "\n",
       "         mergedcategories  Quantity  Sales  Promotion Indicator Weekday  \n",
       "0  CONFECTIONERY BISCUITS      2.00   7.17                    0  Monday  \n",
       "1      VEGETABLES PUMPKIN      0.83   5.87                    0  Monday  \n",
       "2        VEGETABLES ONION      1.49   1.70                    1  Monday  \n",
       "3     VEGETABLES TOMATOES      0.41   6.91                    0  Monday  \n",
       "4       VEGETABLES PEPPER      0.14  16.34                    0  Monday  "
      ]
     },
     "execution_count": 34,
     "metadata": {},
     "output_type": "execute_result"
    }
   ],
   "source": [
    "sun_mon.head()"
   ]
  },
  {
   "cell_type": "code",
   "execution_count": 35,
   "id": "2813a5cb",
   "metadata": {},
   "outputs": [],
   "source": [
    "day = sun_mon[[\"Weekday\",\"Sales\"]]"
   ]
  },
  {
   "cell_type": "markdown",
   "id": "bcb32ed2",
   "metadata": {},
   "source": [
    "Applying Groupby function on Weekday. In weekday we have Monday and Sunday to calculate the Sales made on Monday and Sunday"
   ]
  },
  {
   "cell_type": "code",
   "execution_count": 37,
   "id": "9d4ec7e4",
   "metadata": {},
   "outputs": [
    {
     "data": {
      "text/html": [
       "<div>\n",
       "<style scoped>\n",
       "    .dataframe tbody tr th:only-of-type {\n",
       "        vertical-align: middle;\n",
       "    }\n",
       "\n",
       "    .dataframe tbody tr th {\n",
       "        vertical-align: top;\n",
       "    }\n",
       "\n",
       "    .dataframe thead th {\n",
       "        text-align: right;\n",
       "    }\n",
       "</style>\n",
       "<table border=\"1\" class=\"dataframe\">\n",
       "  <thead>\n",
       "    <tr style=\"text-align: right;\">\n",
       "      <th></th>\n",
       "      <th>Sales</th>\n",
       "    </tr>\n",
       "    <tr>\n",
       "      <th>Weekday</th>\n",
       "      <th></th>\n",
       "    </tr>\n",
       "  </thead>\n",
       "  <tbody>\n",
       "    <tr>\n",
       "      <th>Monday</th>\n",
       "      <td>1390398.77</td>\n",
       "    </tr>\n",
       "    <tr>\n",
       "      <th>Sunday</th>\n",
       "      <td>1365318.54</td>\n",
       "    </tr>\n",
       "  </tbody>\n",
       "</table>\n",
       "</div>"
      ],
      "text/plain": [
       "              Sales\n",
       "Weekday            \n",
       "Monday   1390398.77\n",
       "Sunday   1365318.54"
      ]
     },
     "execution_count": 37,
     "metadata": {},
     "output_type": "execute_result"
    }
   ],
   "source": [
    "day.groupby('Weekday').sum().sort_values(by=['Sales'], ascending=False).head(2)"
   ]
  },
  {
   "cell_type": "code",
   "execution_count": null,
   "id": "af445abd",
   "metadata": {},
   "outputs": [],
   "source": []
  }
 ],
 "metadata": {
  "kernelspec": {
   "display_name": "Python 3 (ipykernel)",
   "language": "python",
   "name": "python3"
  },
  "language_info": {
   "codemirror_mode": {
    "name": "ipython",
    "version": 3
   },
   "file_extension": ".py",
   "mimetype": "text/x-python",
   "name": "python",
   "nbconvert_exporter": "python",
   "pygments_lexer": "ipython3",
   "version": "3.9.7"
  }
 },
 "nbformat": 4,
 "nbformat_minor": 5
}
